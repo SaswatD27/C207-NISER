{
  "nbformat": 4,
  "nbformat_minor": 0,
  "metadata": {
    "colab": {
      "name": "C207 Linear Fit.ipynb",
      "provenance": [],
      "authorship_tag": "ABX9TyO2Chp+wxZ6JDD6nfap1uam",
      "include_colab_link": true
    },
    "kernelspec": {
      "name": "python3",
      "display_name": "Python 3"
    },
    "language_info": {
      "name": "python"
    }
  },
  "cells": [
    {
      "cell_type": "markdown",
      "metadata": {
        "id": "view-in-github",
        "colab_type": "text"
      },
      "source": [
        "<a href=\"https://colab.research.google.com/github/SaswatD27/C207-NISER/blob/main/C207_Linear_Fit.ipynb\" target=\"_parent\"><img src=\"https://colab.research.google.com/assets/colab-badge.svg\" alt=\"Open In Colab\"/></a>"
      ]
    },
    {
      "cell_type": "code",
      "metadata": {
        "id": "DkYp7WgPkn7z"
      },
      "source": [
        "from sklearn.linear_model import LinearRegression\n",
        "import numpy as np"
      ],
      "execution_count": null,
      "outputs": []
    },
    {
      "cell_type": "code",
      "metadata": {
        "id": "xxoNSr8XlCKX"
      },
      "source": [
        "M=np.arange(2,10+1,2)\n",
        "M=M.reshape(-1,1)\n",
        "l=[46.4,51.7,59.0,64.5,69.1]"
      ],
      "execution_count": null,
      "outputs": []
    },
    {
      "cell_type": "code",
      "metadata": {
        "id": "8llOQwz9l0gs"
      },
      "source": [
        "reg = LinearRegression().fit(M, l)"
      ],
      "execution_count": null,
      "outputs": []
    },
    {
      "cell_type": "code",
      "metadata": {
        "colab": {
          "base_uri": "https://localhost:8080/"
        },
        "id": "hmtAb3YQnLz0",
        "outputId": "1a72bbc5-2ac6-4552-eb4f-993371a46b79"
      },
      "source": [
        "print(reg.coef_) #The slope, B"
      ],
      "execution_count": null,
      "outputs": [
        {
          "output_type": "stream",
          "name": "stdout",
          "text": [
            "[2.91]\n"
          ]
        }
      ]
    },
    {
      "cell_type": "code",
      "metadata": {
        "colab": {
          "base_uri": "https://localhost:8080/"
        },
        "id": "1vwEUem0nZHc",
        "outputId": "2d64e7cf-f421-4276-dd86-334dd9f669c3"
      },
      "source": [
        "print(reg.intercept_) #The intercept, A"
      ],
      "execution_count": null,
      "outputs": [
        {
          "output_type": "stream",
          "name": "stdout",
          "text": [
            "40.68\n"
          ]
        }
      ]
    },
    {
      "cell_type": "code",
      "metadata": {
        "id": "colHQvsas3_I",
        "colab": {
          "base_uri": "https://localhost:8080/"
        },
        "outputId": "c644aded-5a85-49af-c1f0-6278ff42fed9"
      },
      "source": [
        "print(sum(l))"
      ],
      "execution_count": null,
      "outputs": [
        {
          "output_type": "stream",
          "name": "stdout",
          "text": [
            "290.7\n"
          ]
        }
      ]
    }
  ]
}